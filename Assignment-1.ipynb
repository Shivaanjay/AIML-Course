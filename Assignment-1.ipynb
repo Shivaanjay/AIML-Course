{
 "cells": [
  {
   "cell_type": "markdown",
   "id": "4d83722d-842e-4e74-a3fb-d11191b07906",
   "metadata": {},
   "source": [
    "1. Explain the key features of Python that make it a popular choice for programing?"
   ]
  },
  {
   "cell_type": "markdown",
   "id": "df933374-4009-449a-ab27-64f7101deefe",
   "metadata": {},
   "source": [
    "Python is popular because it is easy to read and write, which makes it great for beginners. It has many built-in tools and a strong community to help with different tasks like web development and data science. You can quickly build and test programs with Python, and it works on different operating systems. It also plays well with other languages and tools."
   ]
  },
  {
   "cell_type": "markdown",
   "id": "a847b502-c475-4788-8f8b-af79cc6a7f9b",
   "metadata": {},
   "source": [
    "2. Describe the role of predefined keywords in Python and provide examples of how they are used in a program."
   ]
  },
  {
   "cell_type": "markdown",
   "id": "6f20c8c9-eb11-4e6b-b866-c1cfca922b78",
   "metadata": {},
   "source": [
    "Predefined keywords in Python are special words that have specific meanings and uses in the language. They are part of the language's syntax and can't be used for anything else, like variable names. These keywords help to control the flow of the program, define structures, and perform basic operations."
   ]
  },
  {
   "cell_type": "markdown",
   "id": "7ef8b7ab-c668-4e50-82bd-e0d6a2e4c5dc",
   "metadata": {},
   "source": [
    "ex -> if, for, return, def"
   ]
  },
  {
   "cell_type": "code",
   "execution_count": 9,
   "id": "a3b2a4b0-aa05-4a58-9ef4-66aba42b27a4",
   "metadata": {},
   "outputs": [
    {
     "name": "stdin",
     "output_type": "stream",
     "text": [
      " 78\n"
     ]
    },
    {
     "name": "stdout",
     "output_type": "stream",
     "text": [
      "x is greater than 10\n"
     ]
    }
   ],
   "source": [
    "x = input()\n",
    "x = int(x)\n",
    "if(x > 10):\n",
    "    print(\"x is greater than 10\")"
   ]
  },
  {
   "cell_type": "code",
   "execution_count": 11,
   "id": "d5f63b16-8887-4b9f-934d-d24752e14224",
   "metadata": {},
   "outputs": [
    {
     "name": "stdout",
     "output_type": "stream",
     "text": [
      "1\n",
      "2\n",
      "3\n",
      "4\n",
      "5\n"
     ]
    }
   ],
   "source": [
    "for i in range(5):\n",
    "    print(i+1)"
   ]
  },
  {
   "cell_type": "code",
   "execution_count": 17,
   "id": "7d89bfb5-b3fc-4ebb-8627-ee13e5f42ef0",
   "metadata": {},
   "outputs": [
    {
     "name": "stdout",
     "output_type": "stream",
     "text": [
      "12\n"
     ]
    }
   ],
   "source": [
    "def add(a, b):\n",
    "    return a + b\n",
    "\n",
    "a = 5\n",
    "b = 7\n",
    "c = add(a, b)\n",
    "print(c)"
   ]
  },
  {
   "cell_type": "markdown",
   "id": "95cb25c6-815c-4edc-aaba-951a9f278af5",
   "metadata": {},
   "source": [
    "3. Compare and contrast mutable and immutable objects in Python with example."
   ]
  },
  {
   "cell_type": "code",
   "execution_count": null,
   "id": "8bec42a4-5633-43a4-8b8b-5b8a72d09388",
   "metadata": {},
   "outputs": [],
   "source": [
    "Mutable Objects -> Objects whose values can be changed after they are created.\n",
    "                    Ex-> lists, dictionaries, sets.\n",
    "\n",
    "Immutable Objects -> Objects whose values cannot be changed after they are created.\n",
    "                    Ex-> integers, floats, strings, tuples."
   ]
  },
  {
   "cell_type": "code",
   "execution_count": 19,
   "id": "96b14be7-81a9-4225-8a32-6ffb5758c84e",
   "metadata": {},
   "outputs": [
    {
     "name": "stdout",
     "output_type": "stream",
     "text": [
      "[1, 2, 3, 4, 5]\n"
     ]
    }
   ],
   "source": [
    "#Mutable\n",
    "arr = [1, 2, 3, 4]\n",
    "arr.append(5)\n",
    "print(arr)"
   ]
  },
  {
   "cell_type": "code",
   "execution_count": 21,
   "id": "2bb02b51-55cd-4246-b650-3d66b063fc21",
   "metadata": {},
   "outputs": [
    {
     "ename": "AttributeError",
     "evalue": "'tuple' object has no attribute 'append'",
     "output_type": "error",
     "traceback": [
      "\u001b[0;31m---------------------------------------------------------------------------\u001b[0m",
      "\u001b[0;31mAttributeError\u001b[0m                            Traceback (most recent call last)",
      "Cell \u001b[0;32mIn[21], line 3\u001b[0m\n\u001b[1;32m      1\u001b[0m \u001b[38;5;66;03m#Immutable\u001b[39;00m\n\u001b[1;32m      2\u001b[0m arr \u001b[38;5;241m=\u001b[39m (\u001b[38;5;241m1\u001b[39m, \u001b[38;5;241m2\u001b[39m, \u001b[38;5;241m3\u001b[39m)\n\u001b[0;32m----> 3\u001b[0m arr\u001b[38;5;241m.\u001b[39mappend(\u001b[38;5;241m4\u001b[39m)\n\u001b[1;32m      4\u001b[0m \u001b[38;5;28mprint\u001b[39m(arr)\n",
      "\u001b[0;31mAttributeError\u001b[0m: 'tuple' object has no attribute 'append'"
     ]
    }
   ],
   "source": [
    "#Immutable\n",
    "arr = (1, 2, 3)\n",
    "arr.append(4)\n",
    "print(arr)\n",
    "#It will always give an error, as tuples are immmutable."
   ]
  },
  {
   "cell_type": "code",
   "execution_count": 27,
   "id": "9012c07c-cf0d-4be9-a9a5-35f57aca96ab",
   "metadata": {},
   "outputs": [
    {
     "name": "stdout",
     "output_type": "stream",
     "text": [
      "(1, 2, 3, 4)\n"
     ]
    }
   ],
   "source": [
    "#Immutable\n",
    "arr = (1, 2, 3)\n",
    "new_arr = arr + (4,)\n",
    "print(new_arr)\n",
    "#It will work, as we are creating a new tuple."
   ]
  },
  {
   "cell_type": "code",
   "execution_count": null,
   "id": "f429c164-5601-4398-83e5-2d5d5b27ef5f",
   "metadata": {},
   "outputs": [],
   "source": [
    "4. Discuss the different types of operators in Python and provide examples of how they are used in simple words."
   ]
  },
  {
   "cell_type": "markdown",
   "id": "2acc6ac4-fabe-4a3e-a2e7-69571da75491",
   "metadata": {},
   "source": [
    "1) Arithmetic operators -> These are used to perform basic mathematical calculations.\n",
    "\n",
    "2) Comparison Operators -> These operators compare two values and return True or False.\n",
    "\n",
    "3) Assignment operator -> These operators are used to assign values to variables.\n",
    "\n",
    "4) Logical Operators -> These operators are used to combine conditional statements.\n",
    "\n",
    "5) Bitwise Operators -> These operators perform bit-leveloperations.\n",
    "\n",
    "6) Membership Operators -> These operators test for membership in a sequence. "
   ]
  },
  {
   "cell_type": "code",
   "execution_count": 31,
   "id": "0262f39f-c79b-4df4-b5e4-96871f172f08",
   "metadata": {},
   "outputs": [
    {
     "name": "stdout",
     "output_type": "stream",
     "text": [
      "9\n",
      "1\n",
      "20\n",
      "1.25\n",
      "1\n",
      "625\n"
     ]
    }
   ],
   "source": [
    "#Arithmetic operator\n",
    "a = 5\n",
    "b = 4\n",
    "print(a+b)\n",
    "print(a-b)\n",
    "print(a*b)\n",
    "print(a/b)\n",
    "print(a%b)\n",
    "print(a**b)"
   ]
  },
  {
   "cell_type": "code",
   "execution_count": 33,
   "id": "78f8dfdb-9070-4c8b-8568-6b39dd1dab85",
   "metadata": {},
   "outputs": [
    {
     "name": "stdout",
     "output_type": "stream",
     "text": [
      "False\n",
      "True\n",
      "False\n",
      "True\n",
      "False\n",
      "True\n"
     ]
    }
   ],
   "source": [
    "#Comparision Operator\n",
    "a = 23\n",
    "b = 44\n",
    "print(a==b)\n",
    "print(a!=b)\n",
    "print(a>b)\n",
    "print(a<b)\n",
    "print(a>=b)\n",
    "print(a<=b)"
   ]
  },
  {
   "cell_type": "code",
   "execution_count": 39,
   "id": "2a734f12-e6be-40ee-88c8-ec046ce5dc42",
   "metadata": {},
   "outputs": [
    {
     "name": "stdout",
     "output_type": "stream",
     "text": [
      "False\n",
      "True\n"
     ]
    }
   ],
   "source": [
    "#Logical Operator\n",
    "a = 12\n",
    "b = -12\n",
    "print(a > 0 and b > 0)\n",
    "print(a > 0 or b > 0)"
   ]
  },
  {
   "cell_type": "code",
   "execution_count": 43,
   "id": "42a40dfa-d6ee-4ea9-baa4-f87eee0367f3",
   "metadata": {},
   "outputs": [
    {
     "name": "stdout",
     "output_type": "stream",
     "text": [
      "2\n",
      "3\n",
      "1\n",
      "4\n",
      "1\n",
      "-3\n"
     ]
    }
   ],
   "source": [
    "#Bitwise Operator\n",
    "a = 2\n",
    "b = 3\n",
    "print(a & b)\n",
    "print(a | b)\n",
    "print(a ^ b)\n",
    "print(a << 1)\n",
    "print(a >> 1)\n",
    "print(~a)"
   ]
  },
  {
   "cell_type": "markdown",
   "id": "9524f639-41de-4e80-ba7a-d24d6af61c45",
   "metadata": {},
   "source": [
    "5. Explain the concept of type casting in Python with examples"
   ]
  },
  {
   "cell_type": "markdown",
   "id": "3d9a0459-fcb5-4938-819f-2695abdbac4a",
   "metadata": {},
   "source": [
    "Type casting in Python is the process of converting one data type into another. This is useful when you need to perform operations that require a specific data type. Python provides several built-in functions for type casting."
   ]
  },
  {
   "cell_type": "code",
   "execution_count": 51,
   "id": "450d52e2-667d-48a9-b659-6eebe1a48783",
   "metadata": {},
   "outputs": [
    {
     "name": "stdout",
     "output_type": "stream",
     "text": [
      "10.0\n"
     ]
    }
   ],
   "source": [
    "a = 10\n",
    "print(float(a))"
   ]
  },
  {
   "cell_type": "code",
   "execution_count": 53,
   "id": "31e4482d-b849-4215-9a58-ed76f519eeb3",
   "metadata": {},
   "outputs": [
    {
     "name": "stdout",
     "output_type": "stream",
     "text": [
      "12\n"
     ]
    }
   ],
   "source": [
    "str = \"12\"\n",
    "a = int(str)\n",
    "print(a)"
   ]
  },
  {
   "cell_type": "markdown",
   "id": "10cdafe8-aae5-4ec8-af8f-b774287fc764",
   "metadata": {},
   "source": [
    "6. How do conditional statments work in python? Illustrate with examples."
   ]
  },
  {
   "cell_type": "code",
   "execution_count": 55,
   "id": "31540b50-29f8-49e7-b73d-fcb792321629",
   "metadata": {},
   "outputs": [
    {
     "name": "stdout",
     "output_type": "stream",
     "text": [
      "x is not greater than 5\n"
     ]
    }
   ],
   "source": [
    "x = 3\n",
    "if x > 5:\n",
    "    print(\"x is greater than 5\")\n",
    "else:\n",
    "    print(\"x is not greater than 5\")"
   ]
  },
  {
   "cell_type": "markdown",
   "id": "24e7bf84-efad-48ec-b84e-8a6e24cbac97",
   "metadata": {},
   "source": [
    "\u000b",
    "7. Describe the different types of loops in Python and their use cases with examples."
   ]
  },
  {
   "cell_type": "markdown",
   "id": "aa28b9d9-f366-4601-b9c2-4be7a1dcdec8",
   "metadata": {},
   "source": [
    "For loop-> A for loop is used to iterate over a sequence."
   ]
  },
  {
   "cell_type": "code",
   "execution_count": 59,
   "id": "76d63920-d13c-419f-937b-e1cd5d96dfcd",
   "metadata": {},
   "outputs": [
    {
     "name": "stdout",
     "output_type": "stream",
     "text": [
      "1\n",
      "2\n",
      "3\n",
      "4\n",
      "5\n"
     ]
    }
   ],
   "source": [
    "a = 5\n",
    "for i in range(a):\n",
    "    print(i+1)"
   ]
  },
  {
   "cell_type": "markdown",
   "id": "c368609c-c156-4ba5-8015-f91f68a72467",
   "metadata": {},
   "source": [
    "While loop -> A while loop repeatedly executes a block of code as long as a specified condition is True."
   ]
  },
  {
   "cell_type": "code",
   "execution_count": 79,
   "id": "59d09399-8f02-4abc-918a-e79dddbb11f0",
   "metadata": {},
   "outputs": [
    {
     "name": "stdout",
     "output_type": "stream",
     "text": [
      "5\n",
      "4\n",
      "3\n",
      "2\n",
      "1\n"
     ]
    }
   ],
   "source": [
    "a = 5\n",
    "while a > 0:\n",
    "    print(a)\n",
    "    a = a-1"
   ]
  },
  {
   "cell_type": "code",
   "execution_count": null,
   "id": "40263311-5751-40d4-8ae7-af6a810af170",
   "metadata": {},
   "outputs": [],
   "source": []
  }
 ],
 "metadata": {
  "kernelspec": {
   "display_name": "Python 3 (ipykernel)",
   "language": "python",
   "name": "python3"
  },
  "language_info": {
   "codemirror_mode": {
    "name": "ipython",
    "version": 3
   },
   "file_extension": ".py",
   "mimetype": "text/x-python",
   "name": "python",
   "nbconvert_exporter": "python",
   "pygments_lexer": "ipython3",
   "version": "3.12.4"
  }
 },
 "nbformat": 4,
 "nbformat_minor": 5
}
